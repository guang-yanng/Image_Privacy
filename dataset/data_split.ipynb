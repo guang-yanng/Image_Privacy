{
 "cells": [
  {
   "cell_type": "code",
   "execution_count": 1,
   "metadata": {},
   "outputs": [],
   "source": [
    "import os\n",
    "import random\n",
    "import pandas as pd\n",
    "import numpy as np"
   ]
  },
  {
   "cell_type": "code",
   "execution_count": 2,
   "metadata": {},
   "outputs": [],
   "source": [
    "# image_dir = '/home/yangguang/data/PicAlert/'"
   ]
  },
  {
   "cell_type": "code",
   "execution_count": 7,
   "metadata": {},
   "outputs": [],
   "source": [
    "image_dir = '/home/yangguang/data/image_privacy/'"
   ]
  },
  {
   "cell_type": "code",
   "execution_count": 8,
   "metadata": {},
   "outputs": [],
   "source": [
    "private_images = os.listdir(image_dir + 'private/')\n",
    "private_images = [image_dir + 'private/' + img for img in private_images]\n",
    "\n",
    "public_images = os.listdir(image_dir + 'public')\n",
    "public_images = [image_dir + 'public/' + img for img in public_images]"
   ]
  },
  {
   "cell_type": "code",
   "execution_count": 7,
   "metadata": {},
   "outputs": [],
   "source": [
    "# random seed range from 0 to 4\n",
    "random_seed = 0\n",
    "random.seed(random_seed)\n",
    "random.shuffle(private_images)\n",
    "random.shuffle(public_images)"
   ]
  },
  {
   "cell_type": "code",
   "execution_count": 9,
   "metadata": {},
   "outputs": [
    {
     "data": {
      "text/plain": [
       "(13910, 24615)"
      ]
     },
     "execution_count": 9,
     "metadata": {},
     "output_type": "execute_result"
    }
   ],
   "source": [
    "len(private_images), len(public_images)"
   ]
  },
  {
   "cell_type": "code",
   "execution_count": 10,
   "metadata": {},
   "outputs": [
    {
     "data": {
      "text/plain": [
       "1.769590222861251"
      ]
     },
     "execution_count": 10,
     "metadata": {},
     "output_type": "execute_result"
    }
   ],
   "source": [
    "len(public_images)/len(private_images)"
   ]
  },
  {
   "cell_type": "code",
   "execution_count": 17,
   "metadata": {},
   "outputs": [
    {
     "data": {
      "text/plain": [
       "0.6363636363636364"
      ]
     },
     "execution_count": 17,
     "metadata": {},
     "output_type": "execute_result"
    }
   ],
   "source": [
    "7/11"
   ]
  },
  {
   "cell_type": "code",
   "execution_count": 12,
   "metadata": {},
   "outputs": [],
   "source": [
    "ratio = [15,10,7]\n",
    "pn_ratio = [1,3]"
   ]
  },
  {
   "cell_type": "code",
   "execution_count": 11,
   "metadata": {},
   "outputs": [],
   "source": [
    "imgs_num = 32000"
   ]
  },
  {
   "cell_type": "code",
   "execution_count": 13,
   "metadata": {},
   "outputs": [],
   "source": [
    "# len_private = len(private_images)\n",
    "len_private = imgs_num*(pn_ratio[0]/sum(pn_ratio))\n",
    "\n",
    "private_indexes = [len_private*ratio[0]/sum(ratio), len_private*sum(ratio[0:2])/sum(ratio)]\n",
    "private_indexes = [int(index) for index in private_indexes]\n",
    "\n",
    "# len_public = len(public_images)\n",
    "len_public = imgs_num*(pn_ratio[1]/sum(pn_ratio))\n",
    "public_indexes = [len_public*ratio[0]/sum(ratio), len_public*sum(ratio[0:2])/sum(ratio)]\n",
    "public_indexes = [int(index) for index in public_indexes]"
   ]
  },
  {
   "cell_type": "code",
   "execution_count": 8,
   "metadata": {},
   "outputs": [],
   "source": [
    "train_list_private = pd.DataFrame({'img_name':private_images[0:private_indexes[0]],\n",
    "                          'label':'private'})\n",
    "train_list_public = pd.DataFrame({'img_name':public_images[0:public_indexes[0]],\n",
    "                          'label':'public'})\n",
    "\n",
    "val_list_private = pd.DataFrame({'img_name':private_images[private_indexes[0]:private_indexes[1]],\n",
    "                          'label':'private'})\n",
    "val_list_public = pd.DataFrame({'img_name':public_images[public_indexes[0]:public_indexes[1]],\n",
    "                          'label':'public'})\n",
    "\n",
    "test_list_private = pd.DataFrame({'img_name':private_images[private_indexes[1]:],\n",
    "                          'label':'private'})\n",
    "test_list_public = pd.DataFrame({'img_name':public_images[public_indexes[1]:],\n",
    "                          'label':'public'})"
   ]
  },
  {
   "cell_type": "code",
   "execution_count": 9,
   "metadata": {
    "scrolled": true
   },
   "outputs": [],
   "source": [
    "train_list = pd.concat([train_list_private, train_list_public])\n",
    "val_list = pd.concat([val_list_private, val_list_public])\n",
    "test_list = pd.concat([test_list_private, test_list_public])"
   ]
  },
  {
   "cell_type": "code",
   "execution_count": 10,
   "metadata": {},
   "outputs": [],
   "source": [
    "tar_dir = image_dir + '/exp/partition' + str(random_seed) + '/'\n",
    "if not os.path.exists(tar_dir):\n",
    "    os.makedirs(tar_dir)"
   ]
  },
  {
   "cell_type": "code",
   "execution_count": 11,
   "metadata": {},
   "outputs": [],
   "source": [
    "train_list.to_csv(tar_dir + '/train.csv')\n",
    "val_list.to_csv(tar_dir + 'val.csv')\n",
    "test_list.to_csv(tar_dir + 'test.csv')"
   ]
  },
  {
   "cell_type": "code",
   "execution_count": null,
   "metadata": {},
   "outputs": [],
   "source": []
  }
 ],
 "metadata": {
  "kernelspec": {
   "display_name": "Python 3",
   "language": "python",
   "name": "python3"
  },
  "language_info": {
   "codemirror_mode": {
    "name": "ipython",
    "version": 3
   },
   "file_extension": ".py",
   "mimetype": "text/x-python",
   "name": "python",
   "nbconvert_exporter": "python",
   "pygments_lexer": "ipython3",
   "version": "3.6.8"
  }
 },
 "nbformat": 4,
 "nbformat_minor": 2
}
