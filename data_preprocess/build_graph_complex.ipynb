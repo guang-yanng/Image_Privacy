{
 "cells": [
  {
   "cell_type": "code",
   "execution_count": 2,
   "metadata": {},
   "outputs": [],
   "source": [
    "import numpy as np\n",
    "import os\n",
    "import json\n",
    "\n",
    "np.set_printoptions(suppress=True)"
   ]
  },
  {
   "cell_type": "code",
   "execution_count": 3,
   "metadata": {},
   "outputs": [],
   "source": [
    "annotation_dir = '/home/yangguang/data/image_privacy_exp/annotation_ct-0.7/'\n",
    "public_annotations = os.listdir(annotation_dir + 'public')\n",
    "private_annotations = os.listdir(annotation_dir + 'private')\n",
    "\n",
    "for i in range(len(public_annotations)):\n",
    "    public_annotations[i] = annotation_dir + 'public/' + public_annotations[i]\n",
    "    \n",
    "for i in range(len(private_annotations)):\n",
    "    private_annotations[i] = annotation_dir + 'private/' + private_annotations[i]"
   ]
  },
  {
   "cell_type": "code",
   "execution_count": 3,
   "metadata": {},
   "outputs": [],
   "source": [
    "def build_graph(anno_list):\n",
    "    matrix = np.zeros((81))\n",
    "    \n",
    "    for anno in anno_list:\n",
    "        annotation = json.load(open(anno))\n",
    "        categories = annotation['categories']\n",
    "        objects = []\n",
    "\n",
    "        for category in categories:\n",
    "            if category not in objects:\n",
    "                objects.append(category)\n",
    "        \n",
    "        for obj in objects:\n",
    "            matrix[obj] += 1\n",
    "#             privacy_adjacencyMatrix[i][obj] += 1\n",
    "    return matrix\n",
    "\n"
   ]
  },
  {
   "cell_type": "code",
   "execution_count": 4,
   "metadata": {},
   "outputs": [],
   "source": [
    "num_classes = 2\n",
    "num_attributes = 81\n",
    "num_nodes = num_classes + num_attributes"
   ]
  },
  {
   "cell_type": "code",
   "execution_count": 5,
   "metadata": {},
   "outputs": [],
   "source": [
    "privacy_adjacencyMatrix_07 = np.zeros((num_nodes,num_nodes))"
   ]
  },
  {
   "cell_type": "code",
   "execution_count": 4,
   "metadata": {},
   "outputs": [],
   "source": [
    "privacy_adjacencyMatrix_07[0] = build_graph(private_annotations)\n",
    "privacy_adjacencyMatrix_07[1] = build_graph(public_annotations)"
   ]
  },
  {
   "cell_type": "code",
   "execution_count": 11,
   "metadata": {},
   "outputs": [],
   "source": [
    "privacy_adjacencyMatrix_07[0] = privacy_adjacencyMatrix_07[0]/len(private_annotations)\n",
    "privacy_adjacencyMatrix_07[1] = privacy_adjacencyMatrix_07[1]/len(public_annotations)"
   ]
  },
  {
   "cell_type": "code",
   "execution_count": 17,
   "metadata": {},
   "outputs": [],
   "source": [
    "np.save('./privacy_adjacencyMatrix_07.npy', privacy_adjacencyMatrix_07)"
   ]
  },
  {
   "cell_type": "code",
   "execution_count": 6,
   "metadata": {},
   "outputs": [
    {
     "data": {
      "text/plain": [
       "(83, 83)"
      ]
     },
     "execution_count": 6,
     "metadata": {},
     "output_type": "execute_result"
    }
   ],
   "source": [
    "privacy_adjacencyMatrix_07.shape"
   ]
  },
  {
   "cell_type": "code",
   "execution_count": 15,
   "metadata": {},
   "outputs": [],
   "source": [
    "np.savetxt('./privacy_adjacencyMatrix_07.csv', privacy_adjacencyMatrix_07, delimiter=',')"
   ]
  },
  {
   "cell_type": "code",
   "execution_count": 12,
   "metadata": {
    "scrolled": true
   },
   "outputs": [
    {
     "data": {
      "text/plain": [
       "array([[0.        , 0.74061826, 0.01919482, 0.08849748, 0.01193386,\n",
       "        0.00273185, 0.00963336, 0.00337886, 0.03048167, 0.00884256,\n",
       "        0.02969087, 0.00194105, 0.0061826 , 0.00115025, 0.01567218,\n",
       "        0.01114306, 0.01272466, 0.02106398, 0.00416966, 0.00172538,\n",
       "        0.00143781, 0.00115025, 0.00100647, 0.00064702, 0.00014378,\n",
       "        0.03968368, 0.0418404 , 0.0821711 , 0.05593098, 0.00963336,\n",
       "        0.00625449, 0.00301941, 0.00208483, 0.01351546, 0.01186197,\n",
       "        0.00445723, 0.00316319, 0.00596693, 0.00474479, 0.00237239,\n",
       "        0.04780733, 0.01595974, 0.04773544, 0.0030913 , 0.00496046,\n",
       "        0.00352265, 0.01869159, 0.0030913 , 0.00273185, 0.0023005 ,\n",
       "        0.00337886, 0.00093458, 0.00330697, 0.00136592, 0.00265996,\n",
       "        0.00316319, 0.01265277, 0.08921639, 0.01222142, 0.02818116,\n",
       "        0.01761323, 0.04737599, 0.00165349, 0.0225018 , 0.01567218,\n",
       "        0.00323508, 0.01286844, 0.0054637 , 0.03975557, 0.00179727,\n",
       "        0.00208483, 0.        , 0.00330697, 0.00567937, 0.11423436,\n",
       "        0.02149533, 0.01430625, 0.00208483, 0.00920201, 0.        ,\n",
       "        0.00273185],\n",
       "       [0.        , 0.30473289, 0.01328458, 0.06459476, 0.01015641,\n",
       "        0.01044079, 0.00735324, 0.01271582, 0.0207597 , 0.02563478,\n",
       "        0.02002844, 0.00341255, 0.00503758, 0.00199066, 0.01840341,\n",
       "        0.05374771, 0.02214097, 0.02437538, 0.00780012, 0.0045907 ,\n",
       "        0.00410319, 0.00260004, 0.00406256, 0.00121877, 0.00117814,\n",
       "        0.00905952, 0.01876904, 0.01592525, 0.0174284 , 0.00804388,\n",
       "        0.00390006, 0.00247816, 0.00207191, 0.00942515, 0.0110908 ,\n",
       "        0.00235629, 0.00239691, 0.00390006, 0.00418444, 0.00170628,\n",
       "        0.02307536, 0.00605322, 0.02465976, 0.00296567, 0.00410319,\n",
       "        0.0049157 , 0.01998781, 0.00487508, 0.00629697, 0.00385944,\n",
       "        0.00609385, 0.00446882, 0.00686573, 0.00097502, 0.00381881,\n",
       "        0.00861263, 0.02323786, 0.03510055, 0.00426569, 0.02055657,\n",
       "        0.01259395, 0.0370912 , 0.00235629, 0.01401584, 0.0065001 ,\n",
       "        0.00255941, 0.0030063 , 0.00353443, 0.00897827, 0.00089376,\n",
       "        0.00178753, 0.        , 0.00292505, 0.00369693, 0.02388787,\n",
       "        0.01649401, 0.02153159, 0.00544384, 0.01474711, 0.        ,\n",
       "        0.00243754]])"
      ]
     },
     "execution_count": 12,
     "metadata": {},
     "output_type": "execute_result"
    }
   ],
   "source": [
    "privacy_adjacencyMatrix_05"
   ]
  },
  {
   "cell_type": "code",
   "execution_count": 13,
   "metadata": {
    "scrolled": true
   },
   "outputs": [
    {
     "data": {
      "text/plain": [
       "array([[0.        , 0.72063264, 0.01524083, 0.07591661, 0.00797987,\n",
       "        0.00172538, 0.0069734 , 0.00179727, 0.0170381 , 0.00639827,\n",
       "        0.02242991, 0.00107836, 0.00345075, 0.00050324, 0.00762042,\n",
       "        0.0069734 , 0.01071172, 0.01660676, 0.00294752, 0.00136592,\n",
       "        0.00122214, 0.00064702, 0.00021567, 0.00057513, 0.        ,\n",
       "        0.0201294 , 0.02810927, 0.04867002, 0.03968368, 0.00416966,\n",
       "        0.00294752, 0.00150971, 0.0007908 , 0.00769231, 0.00596693,\n",
       "        0.00186916, 0.0015816 , 0.00215672, 0.00258807, 0.00093458,\n",
       "        0.03371675, 0.01207764, 0.03594536, 0.0015816 , 0.0023005 ,\n",
       "        0.0015816 , 0.0108555 , 0.00136592, 0.00107836, 0.00107836,\n",
       "        0.00136592, 0.00057513, 0.00172538, 0.00028756, 0.00115025,\n",
       "        0.00186916, 0.00805176, 0.05909418, 0.00575126, 0.01775701,\n",
       "        0.00884256, 0.03062545, 0.00043134, 0.01430625, 0.00941769,\n",
       "        0.00201294, 0.00582315, 0.00330697, 0.02659957, 0.00100647,\n",
       "        0.00093458, 0.        , 0.00100647, 0.00215672, 0.06750539,\n",
       "        0.01358735, 0.008555  , 0.00086269, 0.0053918 , 0.        ,\n",
       "        0.00100647],\n",
       "       [0.        , 0.2686167 , 0.00995328, 0.05179768, 0.00625635,\n",
       "        0.00763762, 0.00503758, 0.00849076, 0.01178143, 0.01852529,\n",
       "        0.01153768, 0.00211253, 0.00260004, 0.00093439, 0.01007516,\n",
       "        0.03952874, 0.01795653, 0.01905342, 0.00564696, 0.00280317,\n",
       "        0.00223441, 0.0015844 , 0.00223441, 0.00077189, 0.00065001,\n",
       "        0.00373756, 0.00954702, 0.008247  , 0.01048141, 0.00365631,\n",
       "        0.00207191, 0.00117814, 0.00105627, 0.00593134, 0.00593134,\n",
       "        0.00077189, 0.00109689, 0.00211253, 0.00227504, 0.00065001,\n",
       "        0.01580337, 0.00385944, 0.01661588, 0.0019094 , 0.00182815,\n",
       "        0.00292505, 0.01316271, 0.00203128, 0.00296567, 0.00182815,\n",
       "        0.00353443, 0.00260004, 0.00390006, 0.00048751, 0.00219378,\n",
       "        0.00495633, 0.01393459, 0.02315661, 0.00239691, 0.01137518,\n",
       "        0.00609385, 0.02031282, 0.00089376, 0.0077595 , 0.00341255,\n",
       "        0.0015844 , 0.0015844 , 0.00239691, 0.00528133, 0.00040626,\n",
       "        0.00085314, 0.        , 0.0015844 , 0.00170628, 0.01214706,\n",
       "        0.01007516, 0.01170018, 0.00231566, 0.00881576, 0.        ,\n",
       "        0.00081251]])"
      ]
     },
     "execution_count": 13,
     "metadata": {},
     "output_type": "execute_result"
    }
   ],
   "source": [
    "privacy_adjacencyMatrix_07"
   ]
  },
  {
   "cell_type": "code",
   "execution_count": 145,
   "metadata": {},
   "outputs": [],
   "source": [
    "CATEGORIES = [\n",
    "        \"__background\",\n",
    "        \"person\",\n",
    "        \"bicycle\",\n",
    "        \"car\",\n",
    "        \"motorcycle\",\n",
    "        \"airplane\",\n",
    "        \"bus\",\n",
    "        \"train\",\n",
    "        \"truck\",\n",
    "        \"boat\",\n",
    "        \"traffic light\",\n",
    "        \"fire hydrant\",\n",
    "        \"stop sign\",\n",
    "        \"parking meter\",\n",
    "        \"bench\",\n",
    "        \"bird\",\n",
    "        \"cat\",\n",
    "        \"dog\",\n",
    "        \"horse\",\n",
    "        \"sheep\",\n",
    "        \"cow\",\n",
    "        \"elephant\",\n",
    "        \"bear\",\n",
    "        \"zebra\",\n",
    "        \"giraffe\",\n",
    "        \"backpack\",\n",
    "        \"umbrella\",\n",
    "        \"handbag\",\n",
    "        \"tie\",\n",
    "        \"suitcase\",\n",
    "        \"frisbee\",\n",
    "        \"skis\",\n",
    "        \"snowboard\",\n",
    "        \"sports ball\",\n",
    "        \"kite\",\n",
    "        \"baseball bat\",\n",
    "        \"baseball glove\",\n",
    "        \"skateboard\",\n",
    "        \"surfboard\",\n",
    "        \"tennis racket\",\n",
    "        \"bottle\",\n",
    "        \"wine glass\",\n",
    "        \"cup\",\n",
    "        \"fork\",\n",
    "        \"knife\",\n",
    "        \"spoon\",\n",
    "        \"bowl\",\n",
    "        \"banana\",\n",
    "        \"apple\",\n",
    "        \"sandwich\",\n",
    "        \"orange\",\n",
    "        \"broccoli\",\n",
    "        \"carrot\",\n",
    "        \"hot dog\",\n",
    "        \"pizza\",\n",
    "        \"donut\",\n",
    "        \"cake\",\n",
    "        \"chair\",\n",
    "        \"couch\",\n",
    "        \"potted plant\",\n",
    "        \"bed\",\n",
    "        \"dining table\",\n",
    "        \"toilet\",\n",
    "        \"tv\",\n",
    "        \"laptop\",\n",
    "        \"mouse\",\n",
    "        \"remote\",\n",
    "        \"keyboard\",\n",
    "        \"cell phone\",\n",
    "        \"microwave\",\n",
    "        \"oven\",\n",
    "        \"toaster\",\n",
    "        \"sink\",\n",
    "        \"refrigerator\",\n",
    "        \"book\",\n",
    "        \"clock\",\n",
    "        \"vase\",\n",
    "        \"scissors\",\n",
    "        \"teddy bear\",\n",
    "        \"hair drier\",\n",
    "        \"toothbrush\",\n",
    "    ]"
   ]
  },
  {
   "cell_type": "code",
   "execution_count": null,
   "metadata": {},
   "outputs": [],
   "source": []
  }
 ],
 "metadata": {
  "kernelspec": {
   "display_name": "Python 3",
   "language": "python",
   "name": "python3"
  },
  "language_info": {
   "codemirror_mode": {
    "name": "ipython",
    "version": 3
   },
   "file_extension": ".py",
   "mimetype": "text/x-python",
   "name": "python",
   "nbconvert_exporter": "python",
   "pygments_lexer": "ipython3",
   "version": "3.6.8"
  }
 },
 "nbformat": 4,
 "nbformat_minor": 2
}
