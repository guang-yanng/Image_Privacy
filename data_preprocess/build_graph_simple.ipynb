{
 "cells": [
  {
   "cell_type": "code",
   "execution_count": 47,
   "metadata": {},
   "outputs": [],
   "source": [
    "import numpy as np\n",
    "import os\n",
    "import json\n",
    "\n",
    "np.set_printoptions(suppress=True)"
   ]
  },
  {
   "cell_type": "code",
   "execution_count": 2,
   "metadata": {},
   "outputs": [],
   "source": [
    "annotation_dir = '/home/yangguang/data/image_privacy/annotation_ct-0.7/'\n",
    "public_annotations = os.listdir(annotation_dir + 'public')\n",
    "private_annotations = os.listdir(annotation_dir + 'private')\n",
    "\n",
    "for i in range(len(public_annotations)):\n",
    "    public_annotations[i] = annotation_dir + 'public/' + public_annotations[i]\n",
    "    \n",
    "for i in range(len(private_annotations)):\n",
    "    private_annotations[i] = annotation_dir + 'private/' + private_annotations[i]"
   ]
  },
  {
   "cell_type": "code",
   "execution_count": 48,
   "metadata": {},
   "outputs": [],
   "source": [
    "adjacency_matrix='../adjacencyMatrix/privacy_adjacencyMatrix_07.npy'\n",
    "tmp = np.load(adjacency_matrix)"
   ]
  },
  {
   "cell_type": "code",
   "execution_count": 49,
   "metadata": {
    "scrolled": true
   },
   "outputs": [
    {
     "data": {
      "text/plain": [
       "array([[0.        , 0.72063264, 0.01524083, 0.07591661, 0.00797987,\n",
       "        0.00172538, 0.0069734 , 0.00179727, 0.0170381 , 0.00639827,\n",
       "        0.02242991, 0.00107836, 0.00345075, 0.00050324, 0.00762042,\n",
       "        0.0069734 , 0.01071172, 0.01660676, 0.00294752, 0.00136592,\n",
       "        0.00122214, 0.00064702, 0.00021567, 0.00057513, 0.        ,\n",
       "        0.0201294 , 0.02810927, 0.04867002, 0.03968368, 0.00416966,\n",
       "        0.00294752, 0.00150971, 0.0007908 , 0.00769231, 0.00596693,\n",
       "        0.00186916, 0.0015816 , 0.00215672, 0.00258807, 0.00093458,\n",
       "        0.03371675, 0.01207764, 0.03594536, 0.0015816 , 0.0023005 ,\n",
       "        0.0015816 , 0.0108555 , 0.00136592, 0.00107836, 0.00107836,\n",
       "        0.00136592, 0.00057513, 0.00172538, 0.00028756, 0.00115025,\n",
       "        0.00186916, 0.00805176, 0.05909418, 0.00575126, 0.01775701,\n",
       "        0.00884256, 0.03062545, 0.00043134, 0.01430625, 0.00941769,\n",
       "        0.00201294, 0.00582315, 0.00330697, 0.02659957, 0.00100647,\n",
       "        0.00093458, 0.        , 0.00100647, 0.00215672, 0.06750539,\n",
       "        0.01358735, 0.008555  , 0.00086269, 0.0053918 , 0.        ,\n",
       "        0.00100647],\n",
       "       [0.        , 0.2686167 , 0.00995328, 0.05179768, 0.00625635,\n",
       "        0.00763762, 0.00503758, 0.00849076, 0.01178143, 0.01852529,\n",
       "        0.01153768, 0.00211253, 0.00260004, 0.00093439, 0.01007516,\n",
       "        0.03952874, 0.01795653, 0.01905342, 0.00564696, 0.00280317,\n",
       "        0.00223441, 0.0015844 , 0.00223441, 0.00077189, 0.00065001,\n",
       "        0.00373756, 0.00954702, 0.008247  , 0.01048141, 0.00365631,\n",
       "        0.00207191, 0.00117814, 0.00105627, 0.00593134, 0.00593134,\n",
       "        0.00077189, 0.00109689, 0.00211253, 0.00227504, 0.00065001,\n",
       "        0.01580337, 0.00385944, 0.01661588, 0.0019094 , 0.00182815,\n",
       "        0.00292505, 0.01316271, 0.00203128, 0.00296567, 0.00182815,\n",
       "        0.00353443, 0.00260004, 0.00390006, 0.00048751, 0.00219378,\n",
       "        0.00495633, 0.01393459, 0.02315661, 0.00239691, 0.01137518,\n",
       "        0.00609385, 0.02031282, 0.00089376, 0.0077595 , 0.00341255,\n",
       "        0.0015844 , 0.0015844 , 0.00239691, 0.00528133, 0.00040626,\n",
       "        0.00085314, 0.        , 0.0015844 , 0.00170628, 0.01214706,\n",
       "        0.01007516, 0.01170018, 0.00231566, 0.00881576, 0.        ,\n",
       "        0.00081251]])"
      ]
     },
     "execution_count": 49,
     "metadata": {},
     "output_type": "execute_result"
    }
   ],
   "source": [
    "tmp"
   ]
  },
  {
   "cell_type": "code",
   "execution_count": 3,
   "metadata": {},
   "outputs": [],
   "source": [
    "def build_graph(anno_list):\n",
    "    matrix = np.zeros((81))\n",
    "    \n",
    "    for anno in anno_list:\n",
    "        annotation = json.load(open(anno))\n",
    "        categories = annotation['categories']\n",
    "        objects = []\n",
    "\n",
    "        for category in categories:\n",
    "            if category not in objects:\n",
    "                objects.append(category)\n",
    "        \n",
    "        for obj in objects:\n",
    "            matrix[obj] += 1\n",
    "#             privacy_adjacencyMatrix[i][obj] += 1\n",
    "    return matrix\n",
    "\n"
   ]
  },
  {
   "cell_type": "markdown",
   "metadata": {},
   "source": [
    "### true matrix"
   ]
  },
  {
   "cell_type": "code",
   "execution_count": 12,
   "metadata": {},
   "outputs": [],
   "source": [
    "privacy_adjacencyMatrix_05 = np.zeros((2,81))\n",
    "privacy_adjacencyMatrix_05[0] = build_graph(private_annotations)\n",
    "privacy_adjacencyMatrix_05[1] = build_graph(public_annotations)"
   ]
  },
  {
   "cell_type": "code",
   "execution_count": 10,
   "metadata": {},
   "outputs": [],
   "source": [
    "privacy_adjacencyMatrix_05[0] = privacy_adjacencyMatrix_05[0]/len(private_annotations)\n",
    "privacy_adjacencyMatrix_05[1] = privacy_adjacencyMatrix_05[1]/len(public_annotations)"
   ]
  },
  {
   "cell_type": "markdown",
   "metadata": {},
   "source": [
    "### random initialization"
   ]
  },
  {
   "cell_type": "code",
   "execution_count": 43,
   "metadata": {},
   "outputs": [],
   "source": [
    "np.random.seed(0)\n",
    "privacy_adjacencyMatrix_05 = np.random.rand(2,81)"
   ]
  },
  {
   "cell_type": "markdown",
   "metadata": {},
   "source": [
    "### uniform initialization"
   ]
  },
  {
   "cell_type": "code",
   "execution_count": 25,
   "metadata": {},
   "outputs": [],
   "source": [
    "privacy_adjacencyMatrix_05 = np.ones((2,81))/80"
   ]
  },
  {
   "cell_type": "code",
   "execution_count": 45,
   "metadata": {},
   "outputs": [
    {
     "data": {
      "text/plain": [
       "array([[0.        , 0.71518937, 0.60276338, 0.54488318, 0.4236548 ,\n",
       "        0.64589411, 0.43758721, 0.891773  , 0.96366276, 0.38344152,\n",
       "        0.79172504, 0.52889492, 0.56804456, 0.92559664, 0.07103606,\n",
       "        0.0871293 , 0.0202184 , 0.83261985, 0.77815675, 0.87001215,\n",
       "        0.97861834, 0.79915856, 0.46147936, 0.78052918, 0.11827443,\n",
       "        0.63992102, 0.14335329, 0.94466892, 0.52184832, 0.41466194,\n",
       "        0.26455561, 0.77423369, 0.45615033, 0.56843395, 0.0187898 ,\n",
       "        0.6176355 , 0.61209572, 0.616934  , 0.94374808, 0.6818203 ,\n",
       "        0.3595079 , 0.43703195, 0.6976312 , 0.06022547, 0.66676672,\n",
       "        0.67063787, 0.21038256, 0.1289263 , 0.31542835, 0.36371077,\n",
       "        0.57019677, 0.43860151, 0.98837384, 0.10204481, 0.20887676,\n",
       "        0.16130952, 0.65310833, 0.2532916 , 0.46631077, 0.24442559,\n",
       "        0.15896958, 0.11037514, 0.65632959, 0.13818295, 0.19658236,\n",
       "        0.36872517, 0.82099323, 0.09710128, 0.83794491, 0.09609841,\n",
       "        0.97645947, 0.4686512 , 0.97676109, 0.60484552, 0.73926358,\n",
       "        0.03918779, 0.28280696, 0.12019656, 0.2961402 , 0.11872772,\n",
       "        0.31798318],\n",
       "       [0.41426299, 0.0641475 , 0.69247212, 0.56660145, 0.26538949,\n",
       "        0.52324805, 0.09394051, 0.5759465 , 0.9292962 , 0.31856895,\n",
       "        0.66741038, 0.13179786, 0.7163272 , 0.28940609, 0.18319136,\n",
       "        0.58651293, 0.02010755, 0.82894003, 0.00469548, 0.67781654,\n",
       "        0.27000797, 0.73519402, 0.96218855, 0.24875314, 0.57615733,\n",
       "        0.59204193, 0.57225191, 0.22308163, 0.95274901, 0.44712538,\n",
       "        0.84640867, 0.69947928, 0.29743695, 0.81379782, 0.39650574,\n",
       "        0.8811032 , 0.58127287, 0.88173536, 0.69253159, 0.72525428,\n",
       "        0.50132438, 0.95608363, 0.6439902 , 0.42385505, 0.60639321,\n",
       "        0.0191932 , 0.30157482, 0.66017354, 0.29007761, 0.61801543,\n",
       "        0.4287687 , 0.13547406, 0.29828233, 0.56996491, 0.59087276,\n",
       "        0.57432525, 0.65320082, 0.65210327, 0.43141844, 0.8965466 ,\n",
       "        0.36756187, 0.43586493, 0.89192336, 0.80619399, 0.70388858,\n",
       "        0.10022689, 0.91948261, 0.7142413 , 0.99884701, 0.1494483 ,\n",
       "        0.86812606, 0.16249293, 0.61555956, 0.12381998, 0.84800823,\n",
       "        0.80731896, 0.56910074, 0.4071833 , 0.069167  , 0.69742877,\n",
       "        0.45354268]])"
      ]
     },
     "execution_count": 45,
     "metadata": {},
     "output_type": "execute_result"
    }
   ],
   "source": [
    "privacy_adjacencyMatrix_05[0,0]=0\n",
    "privacy_adjacencyMatrix_05"
   ]
  },
  {
   "cell_type": "markdown",
   "metadata": {},
   "source": [
    "### save"
   ]
  },
  {
   "cell_type": "code",
   "execution_count": 46,
   "metadata": {},
   "outputs": [],
   "source": [
    "np.save('privacy_adjacencyMatrix_rand.npy', privacy_adjacencyMatrix_05)"
   ]
  },
  {
   "cell_type": "code",
   "execution_count": 16,
   "metadata": {},
   "outputs": [],
   "source": [
    "np.save('privacy_adjacencyMatrix_05.npy', privacy_adjacencyMatrix_05)"
   ]
  },
  {
   "cell_type": "code",
   "execution_count": 14,
   "metadata": {},
   "outputs": [],
   "source": [
    "np.savetxt('privacy_adjacencyMatrix_05.csv', privacy_adjacencyMatrix_05, delimiter=',')"
   ]
  },
  {
   "cell_type": "code",
   "execution_count": 11,
   "metadata": {},
   "outputs": [],
   "source": [
    "privacy_adjacencyMatrix_07[0] = privacy_adjacencyMatrix_07[0]/len(private_annotations)\n",
    "privacy_adjacencyMatrix_07[1] = privacy_adjacencyMatrix_07[1]/len(public_annotations)"
   ]
  },
  {
   "cell_type": "code",
   "execution_count": 18,
   "metadata": {},
   "outputs": [
    {
     "data": {
      "text/plain": [
       "(2, 81)"
      ]
     },
     "execution_count": 18,
     "metadata": {},
     "output_type": "execute_result"
    }
   ],
   "source": [
    "privacy_adjacencyMatrix_07.shape"
   ]
  },
  {
   "cell_type": "code",
   "execution_count": 19,
   "metadata": {},
   "outputs": [],
   "source": [
    "a = [1, 1, 1, 1, 1, 1, 57, 57, 1, 1, 1, 1, 1, 1, 57, 1, 1, 1, 1, 1, 1, 1, 3, 1, 1, 1, 1, 1, 27, 3, 1, 10]"
   ]
  },
  {
   "cell_type": "code",
   "execution_count": 20,
   "metadata": {},
   "outputs": [
    {
     "name": "stdout",
     "output_type": "stream",
     "text": [
      "person\n",
      "car\n",
      "traffic light\n",
      "chair\n",
      "handbag\n"
     ]
    }
   ],
   "source": [
    "b = list(set(a))\n",
    "for tmp in b:\n",
    "    print(CATEGORIES[tmp])\n",
    "# CATEGORIES[46]"
   ]
  },
  {
   "cell_type": "code",
   "execution_count": 1,
   "metadata": {},
   "outputs": [],
   "source": [
    "CATEGORIES = [\n",
    "        \"__background\",\n",
    "        \"person\",\n",
    "        \"bicycle\",\n",
    "        \"car\",\n",
    "        \"motorcycle\",\n",
    "        \"airplane\",\n",
    "        \"bus\",\n",
    "        \"train\",\n",
    "        \"truck\",\n",
    "        \"boat\",\n",
    "        \"traffic light\",\n",
    "        \"fire hydrant\",\n",
    "        \"stop sign\",\n",
    "        \"parking meter\",\n",
    "        \"bench\",\n",
    "        \"bird\",\n",
    "        \"cat\",\n",
    "        \"dog\",\n",
    "        \"horse\",\n",
    "        \"sheep\",\n",
    "        \"cow\",\n",
    "        \"elephant\",\n",
    "        \"bear\",\n",
    "        \"zebra\",\n",
    "        \"giraffe\",\n",
    "        \"backpack\",\n",
    "        \"umbrella\",\n",
    "        \"handbag\",\n",
    "        \"tie\",\n",
    "        \"suitcase\",\n",
    "        \"frisbee\",\n",
    "        \"skis\",\n",
    "        \"snowboard\",\n",
    "        \"sports ball\",\n",
    "        \"kite\",\n",
    "        \"baseball bat\",\n",
    "        \"baseball glove\",\n",
    "        \"skateboard\",\n",
    "        \"surfboard\",\n",
    "        \"tennis racket\",\n",
    "        \"bottle\",\n",
    "        \"wine glass\",\n",
    "        \"cup\",\n",
    "        \"fork\",\n",
    "        \"knife\",\n",
    "        \"spoon\",\n",
    "        \"bowl\",\n",
    "        \"banana\",\n",
    "        \"apple\",\n",
    "        \"sandwich\",\n",
    "        \"orange\",\n",
    "        \"broccoli\",\n",
    "        \"carrot\",\n",
    "        \"hot dog\",\n",
    "        \"pizza\",\n",
    "        \"donut\",\n",
    "        \"cake\",\n",
    "        \"chair\",\n",
    "        \"couch\",\n",
    "        \"potted plant\",\n",
    "        \"bed\",\n",
    "        \"dining table\",\n",
    "        \"toilet\",\n",
    "        \"tv\",\n",
    "        \"laptop\",\n",
    "        \"mouse\",\n",
    "        \"remote\",\n",
    "        \"keyboard\",\n",
    "        \"cell phone\",\n",
    "        \"microwave\",\n",
    "        \"oven\",\n",
    "        \"toaster\",\n",
    "        \"sink\",\n",
    "        \"refrigerator\",\n",
    "        \"book\",\n",
    "        \"clock\",\n",
    "        \"vase\",\n",
    "        \"scissors\",\n",
    "        \"teddy bear\",\n",
    "        \"hair drier\",\n",
    "        \"toothbrush\",\n",
    "    ]"
   ]
  },
  {
   "cell_type": "code",
   "execution_count": null,
   "metadata": {},
   "outputs": [],
   "source": []
  }
 ],
 "metadata": {
  "kernelspec": {
   "display_name": "Python 3",
   "language": "python",
   "name": "python3"
  },
  "language_info": {
   "codemirror_mode": {
    "name": "ipython",
    "version": 3
   },
   "file_extension": ".py",
   "mimetype": "text/x-python",
   "name": "python",
   "nbconvert_exporter": "python",
   "pygments_lexer": "ipython3",
   "version": "3.6.8"
  }
 },
 "nbformat": 4,
 "nbformat_minor": 2
}
